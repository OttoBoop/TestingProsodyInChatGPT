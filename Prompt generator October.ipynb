{
 "cells": [
  {
   "cell_type": "code",
   "execution_count": 1,
   "metadata": {},
   "outputs": [],
   "source": [
    "import os  # Importing the os module for file and directory operations\n",
    "import requests  # Importing the requests module for making HTTP requests\n",
    "import json  # Importing the json module for working with JSON data\n",
    "import openai  # Importing the openai module for accessing the OpenAI API\n",
    "import datetime  # Importing the datetime module for working with dates and times\n",
    "import itertools  # Importing the itertools module for generating combinations\n"
   ]
  },
  {
   "cell_type": "code",
   "execution_count": 30,
   "metadata": {},
   "outputs": [
    {
     "name": "stdout",
     "output_type": "stream",
     "text": [
      "API key loaded successfully!\n"
     ]
    }
   ],
   "source": [
    "# Define API key\n",
    "file_path = \"C:\\\\Users\\\\otavi\\\\Documents\\\\My API key open AI.txt\"\n",
    "\n",
    "# Open the file and read its content\n",
    "with open(file_path, 'r') as file:\n",
    "    api_key = file.readline().strip()\n",
    "\n",
    "print(\"API key loaded successfully!\")\n",
    "\n",
    "\n",
    "# The base URL for the OpenAI API\n",
    "api_url = \"https://api.openai.com/v1/chat/completions\"\n",
    "\n",
    "def call_api(prompt):\n",
    "    \"\"\"\n",
    "    Function to call OpenAI API and return the response\n",
    "    \"\"\"\n",
    "    openai.api_key = api_key  # Setting the OpenAI API key\n",
    "    data = {\n",
    "        \"model\": \"gpt-3.5-turbo\",\n",
    "        \"messages\": [\n",
    "            {\"role\": \"system\", \"content\": \"You are a helpful assistant.\"},\n",
    "            {\"role\": \"user\", \"content\": prompt}\n",
    "        ]\n",
    "    }\n",
    "    response = openai.ChatCompletion.create(**data)  # Calling the OpenAI API\n",
    "    return response['choices'][0]['message']['content'].strip()  # Returning the response content\n"
   ]
  },
  {
   "cell_type": "code",
   "execution_count": 31,
   "metadata": {},
   "outputs": [],
   "source": [
    "# The number of API calls for each prompt\n",
    "num_calls = 5  # Change this to the number you want"
   ]
  },
  {
   "cell_type": "code",
   "execution_count": 32,
   "metadata": {},
   "outputs": [],
   "source": [
    "# Define a dictionary of transformation functions\n",
    "# Define a dictionary of transformation functions\n",
    "TRANSFORMATIONS = {\n",
    "    'bold': (\"bold\", lambda x: f\"**{x}**\"),  # Function to transform text to bold format\n",
    "    'italic': (\"italic\", lambda x: f\"_{x}_\"),  # Function to transform text to italic format\n",
    "    \"long_dash\": (\"long_dash\", lambda x: f'— {x} —'),  # Function to add long dashes around text\n",
    "    \"asterisks\": (\"asterisks\", lambda x: f'* {x} *'),  # Function to add asterisks around text\n",
    "    \"quotes\": (\"quotes\", lambda x: f'\"{x}\"'),  # Function to add quotes around text\n",
    "    \"tilde\": (\"tilde\", lambda x: f'~{x}~'),  # Function to add tildes around text\n",
    "    \"paranthesis\": (\"paranthesis\", lambda x: f'({x})'),  # Function to add parantheses around text\n",
    "    \"codeblock\": (\"codeblock\", lambda x: f'`{x}`'),  # Function to format text as a code block\n",
    "    \"focus\": (\"focus\", lambda x: f'>>> {x} <<<'),  # Function to add focus around text\n",
    "    'capslock': (\"capslock\", lambda x: x.upper()),  # Convert the text to uppercase\n",
    "    'spacing': (\"spacing\", lambda x: ' '.join(x)),  # Add space between each character of the text\n",
    "}"
   ]
  },
  {
   "cell_type": "code",
   "execution_count": 40,
   "metadata": {},
   "outputs": [],
   "source": [
    "\n",
    "import os\n",
    "import datetime\n",
    "import re\n",
    "\n",
    "def create_prompt_folder(word_to_transformations,transformations):\n",
    "    def remove_special_characters(input_string):\n",
    "        return re.sub(r'\\W+', '_', input_string)\n",
    "    # Define the base directory where folders will be saved\n",
    "    base_directory = \"C:\\\\Users\\\\otavi\\\\Documents\\\\October Research Prompts\"\n",
    "    \n",
    "    # Create a timestamp for uniqueness\n",
    "    timestamp = datetime.datetime.now().strftime('%m%d_%H%M')\n",
    "            # Sanitize word and transformations\n",
    "    words_str = \"_\".join([remove_special_characters(word) for word in word_to_transformations.keys()])\n",
    "    sanitized_transformations = [remove_special_characters(t) for t in transformations]\n",
    "    # If no transformations, name the folder \"no_transformations\"\n",
    "    if not transformations:\n",
    "        folder_name = f\"{timestamp}_{words_str}_no_transformations\"\n",
    "    else:\n",
    "\n",
    "\n",
    "        # Get the first 3 characters of each transformation\n",
    "        transformations_str = \"_\".join([t[:3] for t in sanitized_transformations])\n",
    "\n",
    "        # Construct the folder name using timestamp, word, and transformations\n",
    "        folder_name = f\"{timestamp}_{words_str}_{transformations_str}\"\n",
    "\n",
    "    \n",
    "    # Combine the base directory and the folder name\n",
    "    full_path = os.path.join(base_directory, folder_name)\n",
    "    \n",
    "    # Create the directory\n",
    "    try:\n",
    "        os.makedirs(full_path)\n",
    "    except Exception as e:\n",
    "        print(f\"Could not create the directory: {full_path}. Error: {e}\")\n",
    "        full_path = None\n",
    "\n",
    "    return full_path\n",
    "\n"
   ]
  },
  {
   "cell_type": "code",
   "execution_count": 34,
   "metadata": {},
   "outputs": [],
   "source": [
    "def write_prompt_to_file(prompt, folder_name, transformations):\n",
    "    \"\"\"\n",
    "    Function to write the prompt to a text file\n",
    "    \"\"\"\n",
    "    transformations_str = \", \".join([TRANSFORMATIONS[t][0] for t in transformations])\n",
    "    with open(os.path.join(folder_name, \"PROMPT.txt\"), \"w\") as file:\n",
    "        file.write(f\"Prompt: {prompt}\\nTransformations: {transformations_str}\")\n"
   ]
  },
  {
   "cell_type": "code",
   "execution_count": 43,
   "metadata": {},
   "outputs": [],
   "source": [
    "def transform_prompt(base_prompt, word_to_transformations):\n",
    "    \"\"\"\n",
    "    Function to apply transformations to the base_prompt\n",
    "    \"\"\"\n",
    "    transformed_prompt = base_prompt\n",
    "\n",
    "    content_transformations = ['capslock', 'spacing']\n",
    "\n",
    "    for word, transformations in word_to_transformations.items():\n",
    "        current_word = word  # Initialize with the original word\n",
    "        \n",
    "        # Apply content changing transformations first\n",
    "        for transformation in content_transformations:\n",
    "            if transformation in transformations:\n",
    "                # Apply the transformation to the current_word and update it\n",
    "                new_word = TRANSFORMATIONS[transformation][1](current_word)\n",
    "                # Update the transformed_prompt with the new current_word state\n",
    "                transformed_prompt = transformed_prompt.replace(current_word, new_word)\n",
    "                current_word = new_word  # Update current_word to the latest transformed state\n",
    "        \n",
    "        # Apply non-content changing transformations next\n",
    "        for transformation in transformations:\n",
    "            if transformation not in content_transformations:\n",
    "                new_word = TRANSFORMATIONS[transformation][1](current_word)\n",
    "                transformed_prompt = transformed_prompt.replace(current_word, new_word)\n",
    "                current_word = new_word  # Update current_word to the latest transformed state\n",
    "\n",
    "    return transformed_prompt"
   ]
  },
  {
   "cell_type": "code",
   "execution_count": 36,
   "metadata": {},
   "outputs": [],
   "source": [
    "def get_all_combinations(transformations):\n",
    "    \"\"\"\n",
    "    Function to get all combinations of transformations\n",
    "    \"\"\"\n",
    "    all_combinations = []  # create an empty list to store all combinations\n",
    "    for i in range(1, len(transformations)+1):  # iterate over the range from 1 to the length of transformations + 1\n",
    "        for subset in itertools.combinations(transformations, i):  # iterate over all combinations of transformations with length i\n",
    "            all_combinations.append(subset)  # append the current combination to the all_combinations list\n",
    "    return all_combinations  # return the list of all combinations\n",
    "\n",
    "import itertools\n",
    "\n",
    "def ranked_combinations(elements):\n",
    "    all_combinations = []\n",
    "    \n",
    "    for r in range(1, len(elements) + 1):\n",
    "        combinations = itertools.combinations(elements, r)\n",
    "        all_combinations += [list(combination) for combination in combinations]\n",
    "                \n",
    "    return all_combinations\n"
   ]
  },
  {
   "cell_type": "code",
   "execution_count": 37,
   "metadata": {},
   "outputs": [],
   "source": [
    "def call_api_and_store_responses(base_prompt, word_to_transformations, all_combinations):\n",
    "    for transformation_list in all_combinations:\n",
    "        transformed_word_to_transformations = {}\n",
    "        for word in word_to_transformations:\n",
    "            transformed_word_to_transformations[word] = [t for t in word_to_transformations[word] if t in transformation_list]\n",
    "\n",
    "        # Generate the transformed prompt\n",
    "        prompt = transform_prompt(base_prompt, transformed_word_to_transformations)\n",
    "\n",
    "        # Create a unique folder for the transformed prompt\n",
    "        folder_name = create_prompt_folder(word_to_transformations,transformation_list)\n",
    "        \n",
    "        # Write the prompt to a text file\n",
    "        write_prompt_to_file(prompt, folder_name, transformation_list)\n",
    "        \n",
    "        # Call the API and write the responses to text files\n",
    "        for j in range(num_calls):\n",
    "            response = call_api(prompt)\n",
    "            with open(os.path.join(folder_name, f\"{j+1}.txt\"), \"w\") as file:\n",
    "                file.write(response)\n"
   ]
  },
  {
   "cell_type": "code",
   "execution_count": null,
   "metadata": {},
   "outputs": [],
   "source": []
  },
  {
   "cell_type": "code",
   "execution_count": 49,
   "metadata": {},
   "outputs": [],
   "source": [
    "base_prompts = [\n",
    "    \"Write a two paragraph story based on the following sentence: he was a smart and handsome man\"\n",
    "]\n",
    "\n",
    "word_to_transformations = {\n",
    "    #\"smart\":[]\n",
    "    'smart': ['spacing',\"capslock\",\"bold\"]  # Mapping the word 'smart' to a list of transformations\n",
    "    #'handsome': ['bold', 'italic', 'codeblock', 'focus', 'quotes', 'tilde', 'paranthesis', 'asterisks', 'long_dash'],  # Mapping the word 'handsome' to a list of transformations\n",
    "}\n",
    "\n",
    "for base_prompt in base_prompts:\n",
    "    transformations_for_combinations = list(set(sum(word_to_transformations.values(), [])))\n",
    "    \n",
    "    # Add an empty list to handle the case where there are no transformations\n",
    "    all_combinations = [ [] ] + ranked_combinations(transformations_for_combinations)\n",
    "    call_api_and_store_responses(base_prompt, word_to_transformations, all_combinations)\n"
   ]
  }
 ],
 "metadata": {
  "kernelspec": {
   "display_name": "Python 3",
   "language": "python",
   "name": "python3"
  },
  "language_info": {
   "codemirror_mode": {
    "name": "ipython",
    "version": 3
   },
   "file_extension": ".py",
   "mimetype": "text/x-python",
   "name": "python",
   "nbconvert_exporter": "python",
   "pygments_lexer": "ipython3",
   "version": "3.11.2"
  }
 },
 "nbformat": 4,
 "nbformat_minor": 2
}
